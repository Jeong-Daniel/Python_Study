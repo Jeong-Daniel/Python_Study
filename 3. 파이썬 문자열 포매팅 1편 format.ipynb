{
 "cells": [
  {
   "cell_type": "markdown",
   "id": "3174cc4f",
   "metadata": {},
   "source": [
    "2022-07-19\n",
    "\n",
    "### 1. format  \n",
    "https://docs.python.org/ko/3/library/functions.html?highlight=format#format  \n",
    "\n",
    "인덱스로 집어넣기  \n",
    "'{인덱스0}, {인덱스1}'.format(값0, 값1)"
   ]
  },
  {
   "cell_type": "code",
   "execution_count": 6,
   "id": "d9188aed",
   "metadata": {
    "scrolled": false
   },
   "outputs": [
    {
     "name": "stdout",
     "output_type": "stream",
     "text": [
      "곱하기 6 x 5 = 30\n"
     ]
    }
   ],
   "source": [
    "a=5\n",
    "b=6\n",
    "s = '곱하기 {1} x {0} = {2}'.format(a,b,a*b)\n",
    "print(s)"
   ]
  },
  {
   "cell_type": "code",
   "execution_count": 13,
   "id": "daf300a0",
   "metadata": {},
   "outputs": [
    {
     "name": "stdout",
     "output_type": "stream",
     "text": [
      "곱하기 6 x 5 = 30 5 5 5\n"
     ]
    }
   ],
   "source": [
    "s = '곱하기 {1} x {0} = {2} {0} {0} {0}'.format(a,b,a*b)\n",
    "print(s)"
   ]
  },
  {
   "cell_type": "markdown",
   "id": "5353b4fe",
   "metadata": {},
   "source": [
    "인덱스 이름으로 집어넣기  \n",
    "'{a}, {b}'.format(a=10, b=20)"
   ]
  },
  {
   "cell_type": "code",
   "execution_count": 9,
   "id": "87715107",
   "metadata": {},
   "outputs": [
    {
     "name": "stdout",
     "output_type": "stream",
     "text": [
      "number:11, gender:0\n"
     ]
    }
   ],
   "source": [
    "temp = 'number:{numa}, gender:{numb}'.format(numa=11,numb=0)\n",
    "print(temp)"
   ]
  },
  {
   "cell_type": "code",
   "execution_count": 10,
   "id": "206f381b",
   "metadata": {},
   "outputs": [
    {
     "name": "stdout",
     "output_type": "stream",
     "text": [
      "number:11, gender:22\n"
     ]
    }
   ],
   "source": [
    "tempa=11\n",
    "tempb=22\n",
    "temp = 'number:{numa}, gender:{numb}'.format(numa=tempa,numb=tempb)\n",
    "print(temp)"
   ]
  },
  {
   "cell_type": "markdown",
   "id": "4e1e8716",
   "metadata": {},
   "source": [
    "정렬기준 설정"
   ]
  },
  {
   "cell_type": "code",
   "execution_count": 18,
   "id": "f223f7c2",
   "metadata": {},
   "outputs": [
    {
     "name": "stdout",
     "output_type": "stream",
     "text": [
      "왼쪽 정렬 left      \n",
      "중앙 정렬   center  \n",
      "오른쪽 정렬      right\n"
     ]
    }
   ],
   "source": [
    "temp_a = '왼쪽 정렬 {location:<10}'.format(location='left')\n",
    "temp_b = '중앙 정렬 {location:^10}'.format(location='center')\n",
    "temp_c = '오른쪽 정렬 {location:>10}'.format(location='right')\n",
    "print(temp_a)\n",
    "print(temp_b)\n",
    "print(temp_c)"
   ]
  },
  {
   "cell_type": "code",
   "execution_count": 19,
   "id": "52454f25",
   "metadata": {},
   "outputs": [
    {
     "name": "stdout",
     "output_type": "stream",
     "text": [
      "왼쪽 정렬 left@@@@@@\n",
      "중앙 정렬 ##center##\n",
      "오른쪽 정렬 $$$$$right\n"
     ]
    }
   ],
   "source": [
    "temp_a = '왼쪽 정렬 {location:@<10}'.format(location='left')\n",
    "temp_b = '중앙 정렬 {location:#^10}'.format(location='center')\n",
    "temp_c = '오른쪽 정렬 {location:$>10}'.format(location='right')\n",
    "print(temp_a)\n",
    "print(temp_b)\n",
    "print(temp_c)"
   ]
  },
  {
   "cell_type": "markdown",
   "id": "7a95f166",
   "metadata": {},
   "source": [
    "정수 자리수 표현"
   ]
  },
  {
   "cell_type": "code",
   "execution_count": 22,
   "id": "428717b6",
   "metadata": {},
   "outputs": [
    {
     "name": "stdout",
     "output_type": "stream",
     "text": [
      "정수 2자리 표현 12345, 0123\n"
     ]
    }
   ],
   "source": [
    "ss_a = '정수 표현 {first:03d}, {second:04d}'.format(first=12345,second=123)\n",
    "print(ss_a)"
   ]
  },
  {
   "cell_type": "code",
   "execution_count": 31,
   "id": "8befaa2c",
   "metadata": {},
   "outputs": [
    {
     "ename": "ValueError",
     "evalue": "Invalid format specifier",
     "output_type": "error",
     "traceback": [
      "\u001b[1;31m---------------------------------------------------------------------------\u001b[0m",
      "\u001b[1;31mValueError\u001b[0m                                Traceback (most recent call last)",
      "Input \u001b[1;32mIn [31]\u001b[0m, in \u001b[0;36m<cell line: 1>\u001b[1;34m()\u001b[0m\n\u001b[1;32m----> 1\u001b[0m ss_a \u001b[38;5;241m=\u001b[39m \u001b[38;5;124;43m'\u001b[39;49m\u001b[38;5;124;43m정수 표현 \u001b[39;49m\u001b[38;5;124;43m{\u001b[39;49m\u001b[38;5;124;43mfirst:*6d}, \u001b[39;49m\u001b[38;5;124;43m{\u001b[39;49m\u001b[38;5;124;43msecond:*4d}\u001b[39;49m\u001b[38;5;124;43m'\u001b[39;49m\u001b[38;5;241;43m.\u001b[39;49m\u001b[43mformat\u001b[49m\u001b[43m(\u001b[49m\u001b[43mfirst\u001b[49m\u001b[38;5;241;43m=\u001b[39;49m\u001b[38;5;241;43m12345\u001b[39;49m\u001b[43m,\u001b[49m\u001b[43msecond\u001b[49m\u001b[38;5;241;43m=\u001b[39;49m\u001b[38;5;241;43m123\u001b[39;49m\u001b[43m)\u001b[49m\n\u001b[0;32m      2\u001b[0m \u001b[38;5;28mprint\u001b[39m(ss_a)\n",
      "\u001b[1;31mValueError\u001b[0m: Invalid format specifier"
     ]
    }
   ],
   "source": [
    "ss_a = '정수 표현 {first:*4d}, {second:$4d}'.format(first=12345,second=123)\n",
    "print(ss_a)"
   ]
  },
  {
   "cell_type": "code",
   "execution_count": 33,
   "id": "2f7a4bb5",
   "metadata": {},
   "outputs": [
    {
     "name": "stdout",
     "output_type": "stream",
     "text": [
      "실수 표현 123.12, 1.23400\n"
     ]
    }
   ],
   "source": [
    "ss_b = '실수 표현 {first:0.2f}, {second:0.5f}'.format(first=123.123,second=1.234)\n",
    "print(ss_b)"
   ]
  },
  {
   "cell_type": "code",
   "execution_count": null,
   "id": "cb05c1ca",
   "metadata": {},
   "outputs": [],
   "source": []
  }
 ],
 "metadata": {
  "kernelspec": {
   "display_name": "Python 3 (ipykernel)",
   "language": "python",
   "name": "python3"
  },
  "language_info": {
   "codemirror_mode": {
    "name": "ipython",
    "version": 3
   },
   "file_extension": ".py",
   "mimetype": "text/x-python",
   "name": "python",
   "nbconvert_exporter": "python",
   "pygments_lexer": "ipython3",
   "version": "3.9.12"
  }
 },
 "nbformat": 4,
 "nbformat_minor": 5
}
