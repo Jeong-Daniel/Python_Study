{
 "cells": [
  {
   "cell_type": "markdown",
   "id": "58d064ce",
   "metadata": {},
   "source": [
    "2022-07-19\n",
    "\n",
    "### 2. % 서식기호"
   ]
  },
  {
   "cell_type": "code",
   "execution_count": 5,
   "id": "9d810d78",
   "metadata": {
    "scrolled": true
   },
   "outputs": [
    {
     "name": "stdout",
     "output_type": "stream",
     "text": [
      "this time a\n",
      "this time b\n",
      "this time c\n"
     ]
    }
   ],
   "source": [
    "alphas = ['a','b','c']\n",
    "\n",
    "for alpha in alphas:\n",
    "    print('this time %s'% alpha)"
   ]
  },
  {
   "cell_type": "code",
   "execution_count": 6,
   "id": "1b729c8e",
   "metadata": {},
   "outputs": [
    {
     "name": "stdout",
     "output_type": "stream",
     "text": [
      "this num 10\n",
      "this num 20\n",
      "this num 30\n"
     ]
    }
   ],
   "source": [
    "nums = [10,20,30]\n",
    "\n",
    "for num in nums:\n",
    "    print('this num %d'% num)"
   ]
  },
  {
   "cell_type": "code",
   "execution_count": 9,
   "id": "0e6919a4",
   "metadata": {
    "scrolled": true
   },
   "outputs": [
    {
     "name": "stdout",
     "output_type": "stream",
     "text": [
      "this float 10.110\n",
      "this float 20.220\n",
      "this float 30.330\n"
     ]
    }
   ],
   "source": [
    "floats = [10.11,20.22,30.33]\n",
    "\n",
    "for float in floats:\n",
    "    print('this float %0.3f'% float)"
   ]
  },
  {
   "cell_type": "markdown",
   "id": "43d34d19",
   "metadata": {},
   "source": [
    "한번에 여러개 출력해야할 경우"
   ]
  },
  {
   "cell_type": "code",
   "execution_count": 11,
   "id": "fe138bce",
   "metadata": {},
   "outputs": [
    {
     "name": "stdout",
     "output_type": "stream",
     "text": [
      "my alpha is a and num is 10\n"
     ]
    }
   ],
   "source": [
    "temp = 'my alpha is %s and num is %d'%('a',10)\n",
    "print(temp)"
   ]
  }
 ],
 "metadata": {
  "kernelspec": {
   "display_name": "Python 3 (ipykernel)",
   "language": "python",
   "name": "python3"
  },
  "language_info": {
   "codemirror_mode": {
    "name": "ipython",
    "version": 3
   },
   "file_extension": ".py",
   "mimetype": "text/x-python",
   "name": "python",
   "nbconvert_exporter": "python",
   "pygments_lexer": "ipython3",
   "version": "3.9.12"
  }
 },
 "nbformat": 4,
 "nbformat_minor": 5
}
