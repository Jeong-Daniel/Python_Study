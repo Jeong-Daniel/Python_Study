{
 "cells": [
  {
   "cell_type": "markdown",
   "id": "7ab1df0d",
   "metadata": {},
   "source": [
    "2022-07-21\n",
    "## 파이썬 주석 정리\n",
    "\n",
    "샵 또는 따움표(큰거 작은거 무방)\n",
    "\n",
    "### 1. 한줄 주석 처리"
   ]
  },
  {
   "cell_type": "code",
   "execution_count": 1,
   "id": "79da17a4",
   "metadata": {},
   "outputs": [
    {
     "name": "stdout",
     "output_type": "stream",
     "text": [
      "출력\n"
     ]
    }
   ],
   "source": [
    "#프린터문 출력\n",
    "print(\"출력\")"
   ]
  },
  {
   "cell_type": "markdown",
   "id": "0d563349",
   "metadata": {},
   "source": [
    "### 2. 여러줄 주석 처리"
   ]
  },
  {
   "cell_type": "code",
   "execution_count": 2,
   "id": "c8a5d18b",
   "metadata": {},
   "outputs": [
    {
     "name": "stdout",
     "output_type": "stream",
     "text": [
      "예제 출력하기\n",
      "주석 이후 출력하기\n"
     ]
    }
   ],
   "source": [
    "print(\"예제 출력하기\")\n",
    "\"\"\"\n",
    "111111\n",
    "222222\n",
    "333333\n",
    "\"\"\"\n",
    "print(\"주석 이후 출력하기\")"
   ]
  },
  {
   "cell_type": "code",
   "execution_count": 3,
   "id": "222bc107",
   "metadata": {},
   "outputs": [
    {
     "name": "stdout",
     "output_type": "stream",
     "text": [
      "예제 출력하기\n",
      "주석 이후 출력하기\n"
     ]
    }
   ],
   "source": [
    "print(\"예제 출력하기\")\n",
    "'''\n",
    "111111\n",
    "222222\n",
    "333333\n",
    "'''\n",
    "print(\"주석 이후 출력하기\")"
   ]
  },
  {
   "cell_type": "markdown",
   "id": "f1f4130f",
   "metadata": {},
   "source": [
    "* 파이참, vscode, vs같은 idle의 주석 단축키  \n",
    "Window : CTRL + /  \n",
    "Mac OS : Command + /\n",
    "  \n",
    "*  파이썬 IDLE 주석 단축키  \n",
    "주석 생성 : ALT + 3  \n",
    "주석 제거 : ALT + 4\n",
    "\n",
    "주석 처리할 부분을 드래그하고 단축키 입력"
   ]
  },
  {
   "cell_type": "code",
   "execution_count": 4,
   "id": "b88315ec",
   "metadata": {},
   "outputs": [],
   "source": [
    "class template:\n",
    "#클래스 안의 주석\n",
    "    def __init__(self):\n",
    "        self.a=10\n",
    "        self.b=20"
   ]
  },
  {
   "cell_type": "markdown",
   "id": "dd5ca660",
   "metadata": {},
   "source": [
    "들여쓰기 주의하라는 것도 있던데 노트북/파이참 모두 문제 없음"
   ]
  }
 ],
 "metadata": {
  "kernelspec": {
   "display_name": "Python 3 (ipykernel)",
   "language": "python",
   "name": "python3"
  },
  "language_info": {
   "codemirror_mode": {
    "name": "ipython",
    "version": 3
   },
   "file_extension": ".py",
   "mimetype": "text/x-python",
   "name": "python",
   "nbconvert_exporter": "python",
   "pygments_lexer": "ipython3",
   "version": "3.9.12"
  }
 },
 "nbformat": 4,
 "nbformat_minor": 5
}
