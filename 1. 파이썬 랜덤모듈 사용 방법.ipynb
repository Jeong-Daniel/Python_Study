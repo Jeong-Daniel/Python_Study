{
 "cells": [
  {
   "cell_type": "markdown",
   "id": "042abec3",
   "metadata": {},
   "source": [
    "### 22년 07월 18일\n",
    "\n",
    "## 파이썬 랜덤 모듈 사용 방법 "
   ]
  },
  {
   "cell_type": "code",
   "execution_count": 1,
   "id": "f0c9626a",
   "metadata": {},
   "outputs": [],
   "source": [
    "import random"
   ]
  },
  {
   "cell_type": "markdown",
   "id": "ec16ca03",
   "metadata": {},
   "source": [
    "### 1. random.random()\n",
    "0부터 1까지 랜덤한 숫자"
   ]
  },
  {
   "cell_type": "code",
   "execution_count": 3,
   "id": "723a0d1f",
   "metadata": {
    "scrolled": false
   },
   "outputs": [
    {
     "name": "stdout",
     "output_type": "stream",
     "text": [
      "0.5082460117182678\n"
     ]
    }
   ],
   "source": [
    "print(random.random())"
   ]
  },
  {
   "cell_type": "code",
   "execution_count": 6,
   "id": "82824d49",
   "metadata": {},
   "outputs": [
    {
     "ename": "TypeError",
     "evalue": "Random.random() takes no arguments (1 given)",
     "output_type": "error",
     "traceback": [
      "\u001b[1;31m---------------------------------------------------------------------------\u001b[0m",
      "\u001b[1;31mTypeError\u001b[0m                                 Traceback (most recent call last)",
      "Input \u001b[1;32mIn [6]\u001b[0m, in \u001b[0;36m<cell line: 1>\u001b[1;34m()\u001b[0m\n\u001b[1;32m----> 1\u001b[0m \u001b[43mrandom\u001b[49m\u001b[38;5;241;43m.\u001b[39;49m\u001b[43mrandom\u001b[49m\u001b[43m(\u001b[49m\u001b[38;5;241;43m1\u001b[39;49m\u001b[43m)\u001b[49m\n",
      "\u001b[1;31mTypeError\u001b[0m: Random.random() takes no arguments (1 given)"
     ]
    }
   ],
   "source": [
    "random.random(1)"
   ]
  },
  {
   "cell_type": "markdown",
   "id": "e16d1046",
   "metadata": {},
   "source": [
    "### 2. random.uniform(a,b)\n",
    "a를 포함하고 b를 포함하지 않는 범위 내의 숫자"
   ]
  },
  {
   "cell_type": "code",
   "execution_count": 5,
   "id": "8f6d678f",
   "metadata": {
    "scrolled": true
   },
   "outputs": [
    {
     "name": "stdout",
     "output_type": "stream",
     "text": [
      "8.093573725555606\n"
     ]
    }
   ],
   "source": [
    "print(random.uniform(5, 10))"
   ]
  },
  {
   "cell_type": "markdown",
   "id": "4197d2d8",
   "metadata": {},
   "source": [
    "### 3. random.randint(a,b)\n",
    "2번에서는 실수를 반환하지만 randint는 정수를 반환"
   ]
  },
  {
   "cell_type": "code",
   "execution_count": 7,
   "id": "0b4b8371",
   "metadata": {},
   "outputs": [
    {
     "name": "stdout",
     "output_type": "stream",
     "text": [
      "5\n"
     ]
    }
   ],
   "source": [
    "print(random.randint(5, 10))"
   ]
  },
  {
   "cell_type": "markdown",
   "id": "21febaf6",
   "metadata": {},
   "source": [
    "### 4. random.randrange(a,b)"
   ]
  },
  {
   "cell_type": "code",
   "execution_count": 8,
   "id": "a7f491b1",
   "metadata": {},
   "outputs": [
    {
     "data": {
      "text/plain": [
       "8"
      ]
     },
     "execution_count": 8,
     "metadata": {},
     "output_type": "execute_result"
    }
   ],
   "source": [
    "random.randrange(5, 10)"
   ]
  },
  {
   "cell_type": "code",
   "execution_count": 9,
   "id": "1224c559",
   "metadata": {
    "scrolled": true
   },
   "outputs": [
    {
     "data": {
      "text/plain": [
       "2"
      ]
     },
     "execution_count": 9,
     "metadata": {},
     "output_type": "execute_result"
    }
   ],
   "source": [
    "random.randrange(5)"
   ]
  },
  {
   "cell_type": "markdown",
   "id": "b83e0c73",
   "metadata": {},
   "source": [
    "### 5. random.choice(a,b)"
   ]
  },
  {
   "cell_type": "code",
   "execution_count": 12,
   "id": "ff1b83a5",
   "metadata": {},
   "outputs": [
    {
     "data": {
      "text/plain": [
       "'t'"
      ]
     },
     "execution_count": 12,
     "metadata": {},
     "output_type": "execute_result"
    }
   ],
   "source": [
    "stirng_lsit = 'data backend'\n",
    "random.choice(stirng_lsit)"
   ]
  },
  {
   "cell_type": "code",
   "execution_count": 16,
   "id": "f42d649c",
   "metadata": {},
   "outputs": [
    {
     "data": {
      "text/plain": [
       "['t', 'd', 'b', 'e', 'a', 'n', 'c', 'a', 'a', 'd', 'k']"
      ]
     },
     "execution_count": 16,
     "metadata": {},
     "output_type": "execute_result"
    }
   ],
   "source": [
    "stirng_lsit = ['d','a','t','a' ,'b','a','c','k','e','n','d']\n",
    "random.shuffle(stirng_lsit)\n",
    "stirng_lsit"
   ]
  },
  {
   "cell_type": "code",
   "execution_count": null,
   "id": "dee31e5f",
   "metadata": {},
   "outputs": [],
   "source": []
  }
 ],
 "metadata": {
  "kernelspec": {
   "display_name": "Python 3 (ipykernel)",
   "language": "python",
   "name": "python3"
  },
  "language_info": {
   "codemirror_mode": {
    "name": "ipython",
    "version": 3
   },
   "file_extension": ".py",
   "mimetype": "text/x-python",
   "name": "python",
   "nbconvert_exporter": "python",
   "pygments_lexer": "ipython3",
   "version": "3.9.12"
  }
 },
 "nbformat": 4,
 "nbformat_minor": 5
}
