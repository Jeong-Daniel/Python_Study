{
 "cells": [
  {
   "cell_type": "markdown",
   "id": "a1276e56",
   "metadata": {},
   "source": [
    "2022-07-19\n",
    "### 문자열 포메팅 f-string 편"
   ]
  },
  {
   "cell_type": "code",
   "execution_count": 1,
   "id": "a922ba04",
   "metadata": {},
   "outputs": [
    {
     "ename": "SyntaxError",
     "evalue": "invalid non-printable character U+00A0 (263100103.py, line 1)",
     "output_type": "error",
     "traceback": [
      "\u001b[1;36m  Input \u001b[1;32mIn [1]\u001b[1;36m\u001b[0m\n\u001b[1;33m    s = 'blue'\u001b[0m\n\u001b[1;37m     ^\u001b[0m\n\u001b[1;31mSyntaxError\u001b[0m\u001b[1;31m:\u001b[0m invalid non-printable character U+00A0\n"
     ]
    }
   ],
   "source": [
    "s = 'blue'\n",
    "n = 7\n",
    "result = f'저는 {s}를 선호하고 좋아하는 숫자는 {n}'\n",
    "print(result)"
   ]
  },
  {
   "cell_type": "code",
   "execution_count": 2,
   "id": "90484fa1",
   "metadata": {},
   "outputs": [
    {
     "name": "stdout",
     "output_type": "stream",
     "text": [
      "저는 블루를 선호하고 좋아하는 숫자는 7 입니다\n"
     ]
    }
   ],
   "source": [
    "c = '블루'\n",
    "n = 7\n",
    "result = f'저는 {c}를 선호하고 좋아하는 숫자는 {n} 입니다'\n",
    "print(result)"
   ]
  },
  {
   "cell_type": "code",
   "execution_count": 8,
   "id": "7361c105",
   "metadata": {},
   "outputs": [
    {
     "name": "stdout",
     "output_type": "stream",
     "text": [
      "|왼쪽00000000|\n",
      "|0000000오른쪽|\n",
      "|0000중앙0000|\n"
     ]
    }
   ],
   "source": [
    "left = '왼쪽'\n",
    "result1 = f'|{left:0<10}|'\n",
    "print(result1)\n",
    "\n",
    "right = '오른쪽'\n",
    "result2 = f'|{right:0>10}|'\n",
    "print(result2)\n",
    "\n",
    "center = '중앙'\n",
    "result3 = f'|{center:0^10}|'\n",
    "print(result3)"
   ]
  },
  {
   "cell_type": "code",
   "execution_count": 13,
   "id": "e4a653cc",
   "metadata": {},
   "outputs": [
    {
     "name": "stdout",
     "output_type": "stream",
     "text": [
      "|1.10|\n",
      "|22.22|\n",
      "|333.33|\n"
     ]
    }
   ],
   "source": [
    "left = 1.1\n",
    "result1 = f'|{left:.2f}|'\n",
    "print(result1)\n",
    "\n",
    "right = 22.22\n",
    "result2 = f'|{right:.2f}|'\n",
    "print(result2)\n",
    "\n",
    "center = 333.333\n",
    "result3 = f'|{center:.2f}|'\n",
    "print(result3)"
   ]
  },
  {
   "cell_type": "code",
   "execution_count": 20,
   "id": "0e056f2a",
   "metadata": {},
   "outputs": [
    {
     "name": "stdout",
     "output_type": "stream",
     "text": [
      "my word ㄱ,ㄴ,ㄷ\n"
     ]
    }
   ],
   "source": [
    "word={'a':'ㄱ','b':'ㄴ','c':'ㄷ'}\n",
    "result=f'my word {word[\"a\"]},{word[\"b\"]},{word[\"c\"]}'\n",
    "print(result)"
   ]
  },
  {
   "cell_type": "code",
   "execution_count": 22,
   "id": "1dd58fde",
   "metadata": {},
   "outputs": [
    {
     "name": "stdout",
     "output_type": "stream",
     "text": [
      "my list 100,200,300\n"
     ]
    }
   ],
   "source": [
    "my_list=[100,200,300]\n",
    "result2=f'my list {my_list[0]},{my_list[1]},{my_list[2]}'\n",
    "print(result2)"
   ]
  },
  {
   "cell_type": "code",
   "execution_count": null,
   "id": "a94ccd9a",
   "metadata": {},
   "outputs": [],
   "source": []
  }
 ],
 "metadata": {
  "kernelspec": {
   "display_name": "Python 3 (ipykernel)",
   "language": "python",
   "name": "python3"
  },
  "language_info": {
   "codemirror_mode": {
    "name": "ipython",
    "version": 3
   },
   "file_extension": ".py",
   "mimetype": "text/x-python",
   "name": "python",
   "nbconvert_exporter": "python",
   "pygments_lexer": "ipython3",
   "version": "3.9.12"
  }
 },
 "nbformat": 4,
 "nbformat_minor": 5
}
