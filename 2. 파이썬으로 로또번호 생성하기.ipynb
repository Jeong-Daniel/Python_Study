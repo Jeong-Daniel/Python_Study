{
 "cells": [
  {
   "cell_type": "markdown",
   "id": "9eb44ea6",
   "metadata": {},
   "source": [
    "### 22년 07월 18일\n",
    "\n",
    "## 파이썬으로 로또번호 생성하기  \n",
    "조건 : 제한된 범위 내에 중복되지 않는 숫자 6개 생성하고 정렬하기"
   ]
  },
  {
   "cell_type": "code",
   "execution_count": 19,
   "id": "e1422925",
   "metadata": {},
   "outputs": [],
   "source": [
    "import random"
   ]
  },
  {
   "cell_type": "markdown",
   "id": "b6c791bd",
   "metadata": {},
   "source": [
    "랜덤수 생성을 위한 라이브러리"
   ]
  },
  {
   "cell_type": "code",
   "execution_count": 23,
   "id": "54c4ea9a",
   "metadata": {},
   "outputs": [],
   "source": [
    "lotto_list = []\n",
    "#비어있는 리스트 생성\n",
    "while True:\n",
    "    temp = random.randrange(1,46)\n",
    "    #랜덤함수 생성\n",
    "    if temp not in lotto_list:\n",
    "        #중복이 없는지 체크\n",
    "        lotto_list.append(temp)\n",
    "        #중복이 존재하지 않는다면 리스트 추가\n",
    "        if len(lotto_list)==6:\n",
    "            #로또리스트가 6인지 확인\n",
    "            break\n",
    "            #6이 맞다면 탈출"
   ]
  },
  {
   "cell_type": "code",
   "execution_count": 21,
   "id": "b307692a",
   "metadata": {},
   "outputs": [
    {
     "data": {
      "text/plain": [
       "[24, 1, 44, 8, 27, 4]"
      ]
     },
     "execution_count": 21,
     "metadata": {},
     "output_type": "execute_result"
    }
   ],
   "source": [
    "lotto_list"
   ]
  },
  {
   "cell_type": "code",
   "execution_count": 22,
   "id": "cf398702",
   "metadata": {},
   "outputs": [
    {
     "data": {
      "text/plain": [
       "[1, 4, 8, 24, 27, 44]"
      ]
     },
     "execution_count": 22,
     "metadata": {},
     "output_type": "execute_result"
    }
   ],
   "source": [
    "lotto_list.sort()\n",
    "#하는김에 정렬\n",
    "lotto_list"
   ]
  }
 ],
 "metadata": {
  "kernelspec": {
   "display_name": "Python 3 (ipykernel)",
   "language": "python",
   "name": "python3"
  },
  "language_info": {
   "codemirror_mode": {
    "name": "ipython",
    "version": 3
   },
   "file_extension": ".py",
   "mimetype": "text/x-python",
   "name": "python",
   "nbconvert_exporter": "python",
   "pygments_lexer": "ipython3",
   "version": "3.9.12"
  }
 },
 "nbformat": 4,
 "nbformat_minor": 5
}
